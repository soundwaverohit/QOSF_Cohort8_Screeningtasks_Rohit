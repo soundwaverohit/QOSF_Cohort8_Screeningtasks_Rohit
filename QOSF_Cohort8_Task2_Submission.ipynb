{
 "cells": [
  {
   "cell_type": "markdown",
   "metadata": {},
   "source": [
    "## Task 2 Submission -- Rohit Ganti"
   ]
  },
  {
   "cell_type": "code",
   "execution_count": 8,
   "metadata": {},
   "outputs": [
    {
     "name": "stdout",
     "output_type": "stream",
     "text": [
      "True\n",
      "False\n",
      "True\n"
     ]
    }
   ],
   "source": [
    "from qiskit import QuantumCircuit, Aer, transpile, assemble\n",
    "from qiskit.visualization import plot_histogram\n",
    "import numpy as np\n",
    "\n",
    "def find_negative_numbers(num_list):\n",
    "    # Check if the input list is empty\n",
    "    if not num_list:\n",
    "        return False\n",
    "    \n",
    "    # Determine the number of qubits needed based on the maximum absolute value in the list\n",
    "    max_value = max(map(abs, num_list))\n",
    "    num_qubits = int(np.ceil(np.log2(max_value + 1)))  # Add 1 for zero\n",
    "    \n",
    "    # Create a quantum circuit with num_qubits qubits\n",
    "    qc = QuantumCircuit(num_qubits, num_qubits)\n",
    "    \n",
    "    # Initialize the qubits in a superposition\n",
    "    qc.h(range(num_qubits))\n",
    "    \n",
    "    # Apply a conditional phase flip to mark negative values\n",
    "    for idx, num in enumerate(num_list):\n",
    "        if num < 0:\n",
    "            qc.z(idx)\n",
    "    \n",
    "    # Apply Grover diffusion operator\n",
    "    qc.h(range(num_qubits))\n",
    "    qc.x(range(num_qubits))\n",
    "    qc.h(num_qubits-1)\n",
    "    qc.mct(list(range(num_qubits-1)), num_qubits-1)  # Multi-controlled Toffoli gate\n",
    "    qc.h(num_qubits-1)\n",
    "    qc.x(range(num_qubits))\n",
    "    qc.h(range(num_qubits))\n",
    "    \n",
    "    # Measure the qubits\n",
    "    qc.measure(range(num_qubits), range(num_qubits))\n",
    "    \n",
    "    # Simulate the quantum circuit\n",
    "    simulator = Aer.get_backend('qasm_simulator')\n",
    "    compiled_circuit = transpile(qc, simulator)\n",
    "    job = assemble(compiled_circuit, shots=1)\n",
    "    result = simulator.run(job).result()\n",
    "    \n",
    "    # Check if any qubit is in the |1⟩ state, indicating a negative number\n",
    "    counts = result.get_counts()\n",
    "    for key in counts:\n",
    "        if '1' in key:\n",
    "            return True\n",
    "    \n",
    "    return False\n",
    "\n",
    "# Test cases\n",
    "A = find_negative_numbers([1, -3, 2, 15])\n",
    "print(A)  # Output: True\n",
    "\n",
    "B = find_negative_numbers([1, 4, 8, 11])\n",
    "print(B)  # Output: False\n",
    "\n",
    "C = find_negative_numbers([-15, -14, 2, -1])\n",
    "print(C)  # Output: True\n"
   ]
  },
  {
   "cell_type": "code",
   "execution_count": null,
   "metadata": {},
   "outputs": [],
   "source": []
  }
 ],
 "metadata": {
  "kernelspec": {
   "display_name": "Python 3",
   "language": "python",
   "name": "python3"
  },
  "language_info": {
   "codemirror_mode": {
    "name": "ipython",
    "version": 3
   },
   "file_extension": ".py",
   "mimetype": "text/x-python",
   "name": "python",
   "nbconvert_exporter": "python",
   "pygments_lexer": "ipython3",
   "version": "3.8.8"
  },
  "orig_nbformat": 4
 },
 "nbformat": 4,
 "nbformat_minor": 2
}
